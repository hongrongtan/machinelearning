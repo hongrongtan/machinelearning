{
 "cells": [
  {
   "attachments": {},
   "cell_type": "markdown",
   "metadata": {},
   "source": [
    "# Content-based Book Recommender System"
   ]
  },
  {
   "cell_type": "code",
   "execution_count": 1,
   "metadata": {},
   "outputs": [
    {
     "name": "stdout",
     "output_type": "stream",
     "text": [
      "Requirement already satisfied: rake_nltk in /Library/Frameworks/Python.framework/Versions/3.12/lib/python3.12/site-packages (1.0.6)\n",
      "Requirement already satisfied: nltk<4.0.0,>=3.6.2 in /Library/Frameworks/Python.framework/Versions/3.12/lib/python3.12/site-packages (from rake_nltk) (3.8.1)\n",
      "Requirement already satisfied: click in /Library/Frameworks/Python.framework/Versions/3.12/lib/python3.12/site-packages (from nltk<4.0.0,>=3.6.2->rake_nltk) (8.1.7)\n",
      "Requirement already satisfied: joblib in /Library/Frameworks/Python.framework/Versions/3.12/lib/python3.12/site-packages (from nltk<4.0.0,>=3.6.2->rake_nltk) (1.3.2)\n",
      "Requirement already satisfied: regex>=2021.8.3 in /Library/Frameworks/Python.framework/Versions/3.12/lib/python3.12/site-packages (from nltk<4.0.0,>=3.6.2->rake_nltk) (2023.12.25)\n",
      "Requirement already satisfied: tqdm in /Library/Frameworks/Python.framework/Versions/3.12/lib/python3.12/site-packages (from nltk<4.0.0,>=3.6.2->rake_nltk) (4.66.2)\n",
      "Note: you may need to restart the kernel to use updated packages.\n"
     ]
    }
   ],
   "source": [
    "%pip install rake_nltk"
   ]
  },
  {
   "cell_type": "code",
   "execution_count": 2,
   "metadata": {},
   "outputs": [
    {
     "name": "stderr",
     "output_type": "stream",
     "text": [
      "[nltk_data] Downloading package stopwords to\n",
      "[nltk_data]     /Users/reddragon/nltk_data...\n",
      "[nltk_data]   Package stopwords is already up-to-date!\n",
      "[nltk_data] Downloading package punkt to /Users/reddragon/nltk_data...\n",
      "[nltk_data]   Package punkt is already up-to-date!\n"
     ]
    },
    {
     "data": {
      "text/plain": [
       "True"
      ]
     },
     "execution_count": 2,
     "metadata": {},
     "output_type": "execute_result"
    }
   ],
   "source": [
    "import nltk\n",
    "nltk.download('stopwords')\n",
    "nltk.download('punkt')"
   ]
  },
  {
   "cell_type": "code",
   "execution_count": 3,
   "metadata": {},
   "outputs": [
    {
     "name": "stderr",
     "output_type": "stream",
     "text": [
      "/var/folders/b6/wvsnhxp56z97rld_stlsjcrh0000gn/T/ipykernel_4038/1376994740.py:2: DeprecationWarning: \n",
      "Pyarrow will become a required dependency of pandas in the next major release of pandas (pandas 3.0),\n",
      "(to allow more performant data types, such as the Arrow string type, and better interoperability with other libraries)\n",
      "but was not found to be installed on your system.\n",
      "If this would cause problems for you,\n",
      "please provide us feedback at https://github.com/pandas-dev/pandas/issues/54466\n",
      "        \n",
      "  import pandas as pd\n"
     ]
    }
   ],
   "source": [
    "import io\n",
    "import pandas as pd\n",
    "from rake_nltk import Rake\n",
    "import numpy as np\n",
    "from sklearn.metrics.pairwise import cosine_similarity\n",
    "from sklearn.feature_extraction.text import CountVectorizer"
   ]
  },
  {
   "cell_type": "code",
   "execution_count": 4,
   "metadata": {},
   "outputs": [],
   "source": [
    "# read datasets\n",
    "# books_df = pd.read_csv('/Users/reddragon/Documents/SMU/Y2S2/IS215 Digital Business/project /book_recommendation_dataset/Books.csv', nrows=10000)\n",
    "# users_df = pd.read_csv('/Users/reddragon/Documents/SMU/Y2S2/IS215 Digital Business/project /book_recommendation_dataset/Users.csv')\n",
    "# ratings_df = pd.read_csv('/Users/reddragon/Documents/SMU/Y2S2/IS215 Digital Business/project /book_recommendation_dataset/Ratings.csv')"
   ]
  },
  {
   "cell_type": "code",
   "execution_count": 5,
   "metadata": {},
   "outputs": [
    {
     "data": {
      "text/html": [
       "<div>\n",
       "<style scoped>\n",
       "    .dataframe tbody tr th:only-of-type {\n",
       "        vertical-align: middle;\n",
       "    }\n",
       "\n",
       "    .dataframe tbody tr th {\n",
       "        vertical-align: top;\n",
       "    }\n",
       "\n",
       "    .dataframe thead th {\n",
       "        text-align: right;\n",
       "    }\n",
       "</style>\n",
       "<table border=\"1\" class=\"dataframe\">\n",
       "  <thead>\n",
       "    <tr style=\"text-align: right;\">\n",
       "      <th></th>\n",
       "      <th>Book</th>\n",
       "      <th>Author(s)</th>\n",
       "      <th>Original language</th>\n",
       "      <th>First published</th>\n",
       "      <th>Approximate sales in millions</th>\n",
       "      <th>Genre</th>\n",
       "    </tr>\n",
       "  </thead>\n",
       "  <tbody>\n",
       "    <tr>\n",
       "      <th>169</th>\n",
       "      <td>The Goal</td>\n",
       "      <td>Eliyahu M. Goldratt</td>\n",
       "      <td>English</td>\n",
       "      <td>1984</td>\n",
       "      <td>10.0</td>\n",
       "      <td>NaN</td>\n",
       "    </tr>\n",
       "    <tr>\n",
       "      <th>170</th>\n",
       "      <td>Fahrenheit 451</td>\n",
       "      <td>Ray Bradbury</td>\n",
       "      <td>English</td>\n",
       "      <td>1953</td>\n",
       "      <td>10.0</td>\n",
       "      <td>NaN</td>\n",
       "    </tr>\n",
       "    <tr>\n",
       "      <th>171</th>\n",
       "      <td>Angela's Ashes</td>\n",
       "      <td>Frank McCourt</td>\n",
       "      <td>English</td>\n",
       "      <td>1996</td>\n",
       "      <td>10.0</td>\n",
       "      <td>NaN</td>\n",
       "    </tr>\n",
       "    <tr>\n",
       "      <th>172</th>\n",
       "      <td>The Story of My Experiments with Truth (સત્યના...</td>\n",
       "      <td>Mohandas Karamchand Gandhi</td>\n",
       "      <td>Gujarati</td>\n",
       "      <td>1929</td>\n",
       "      <td>10.0</td>\n",
       "      <td>NaN</td>\n",
       "    </tr>\n",
       "    <tr>\n",
       "      <th>173</th>\n",
       "      <td>Bridget Jones's Diary</td>\n",
       "      <td>Helen Fielding</td>\n",
       "      <td>English</td>\n",
       "      <td>1996</td>\n",
       "      <td>10.0</td>\n",
       "      <td>NaN</td>\n",
       "    </tr>\n",
       "  </tbody>\n",
       "</table>\n",
       "</div>"
      ],
      "text/plain": [
       "                                                  Book  \\\n",
       "169                                           The Goal   \n",
       "170                                     Fahrenheit 451   \n",
       "171                                     Angela's Ashes   \n",
       "172  The Story of My Experiments with Truth (સત્યના...   \n",
       "173                              Bridget Jones's Diary   \n",
       "\n",
       "                      Author(s) Original language  First published  \\\n",
       "169         Eliyahu M. Goldratt           English             1984   \n",
       "170                Ray Bradbury           English             1953   \n",
       "171               Frank McCourt           English             1996   \n",
       "172  Mohandas Karamchand Gandhi          Gujarati             1929   \n",
       "173              Helen Fielding           English             1996   \n",
       "\n",
       "     Approximate sales in millions Genre  \n",
       "169                           10.0   NaN  \n",
       "170                           10.0   NaN  \n",
       "171                           10.0   NaN  \n",
       "172                           10.0   NaN  \n",
       "173                           10.0   NaN  "
      ]
     },
     "execution_count": 5,
     "metadata": {},
     "output_type": "execute_result"
    }
   ],
   "source": [
    "# read dataset\n",
    "bestselling_df = pd.read_csv('/Users/reddragon/Documents/SMU/Y2S2/IS215 Digital Business/project /best-selling-books.csv')\n",
    "bestselling_df.tail()"
   ]
  },
  {
   "cell_type": "code",
   "execution_count": 6,
   "metadata": {},
   "outputs": [],
   "source": [
    "# user_ratings_df = ratings_df.merge(users_df, left_on = 'User-ID', right_on = 'User-ID')\n",
    "# user_ratings_df.head()"
   ]
  },
  {
   "cell_type": "code",
   "execution_count": 7,
   "metadata": {},
   "outputs": [],
   "source": [
    "# book_user_rating = books_df.merge(user_ratings_df, left_on = 'ISBN',right_on = 'ISBN')\n",
    "# book_user_rating.reset_index(drop=True, inplace = True)\n",
    "# book_user_rating.head()"
   ]
  },
  {
   "cell_type": "code",
   "execution_count": 107,
   "metadata": {},
   "outputs": [
    {
     "name": "stderr",
     "output_type": "stream",
     "text": [
      "/var/folders/b6/wvsnhxp56z97rld_stlsjcrh0000gn/T/ipykernel_4038/286874660.py:2: SettingWithCopyWarning: \n",
      "A value is trying to be set on a copy of a slice from a DataFrame\n",
      "\n",
      "See the caveats in the documentation: https://pandas.pydata.org/pandas-docs/stable/user_guide/indexing.html#returning-a-view-versus-a-copy\n",
      "  books_df.dropna(inplace=True)\n"
     ]
    }
   ],
   "source": [
    "books_df = bestselling_df[['Book', 'Author(s)', 'Original language', 'Genre']]\n",
    "books_df.dropna(inplace=True)"
   ]
  },
  {
   "cell_type": "code",
   "execution_count": 108,
   "metadata": {},
   "outputs": [
    {
     "data": {
      "text/html": [
       "<div>\n",
       "<style scoped>\n",
       "    .dataframe tbody tr th:only-of-type {\n",
       "        vertical-align: middle;\n",
       "    }\n",
       "\n",
       "    .dataframe tbody tr th {\n",
       "        vertical-align: top;\n",
       "    }\n",
       "\n",
       "    .dataframe thead th {\n",
       "        text-align: right;\n",
       "    }\n",
       "</style>\n",
       "<table border=\"1\" class=\"dataframe\">\n",
       "  <thead>\n",
       "    <tr style=\"text-align: right;\">\n",
       "      <th></th>\n",
       "      <th>Book</th>\n",
       "      <th>Author(s)</th>\n",
       "      <th>Original language</th>\n",
       "      <th>Genre</th>\n",
       "    </tr>\n",
       "  </thead>\n",
       "  <tbody>\n",
       "    <tr>\n",
       "      <th>0</th>\n",
       "      <td>A Tale of Two Cities</td>\n",
       "      <td>Charles Dickens</td>\n",
       "      <td>English</td>\n",
       "      <td>Historical fiction</td>\n",
       "    </tr>\n",
       "    <tr>\n",
       "      <th>1</th>\n",
       "      <td>The Little Prince (Le Petit Prince)</td>\n",
       "      <td>Antoine de Saint-Exupéry</td>\n",
       "      <td>French</td>\n",
       "      <td>Novella</td>\n",
       "    </tr>\n",
       "    <tr>\n",
       "      <th>2</th>\n",
       "      <td>Harry Potter and the Philosopher's Stone</td>\n",
       "      <td>J. K. Rowling</td>\n",
       "      <td>English</td>\n",
       "      <td>Fantasy</td>\n",
       "    </tr>\n",
       "    <tr>\n",
       "      <th>3</th>\n",
       "      <td>And Then There Were None</td>\n",
       "      <td>Agatha Christie</td>\n",
       "      <td>English</td>\n",
       "      <td>Mystery</td>\n",
       "    </tr>\n",
       "    <tr>\n",
       "      <th>4</th>\n",
       "      <td>Dream of the Red Chamber (紅樓夢)</td>\n",
       "      <td>Cao Xueqin</td>\n",
       "      <td>Chinese</td>\n",
       "      <td>Family saga</td>\n",
       "    </tr>\n",
       "  </tbody>\n",
       "</table>\n",
       "</div>"
      ],
      "text/plain": [
       "                                       Book                 Author(s)  \\\n",
       "0                      A Tale of Two Cities           Charles Dickens   \n",
       "1       The Little Prince (Le Petit Prince)  Antoine de Saint-Exupéry   \n",
       "2  Harry Potter and the Philosopher's Stone             J. K. Rowling   \n",
       "3                  And Then There Were None           Agatha Christie   \n",
       "4            Dream of the Red Chamber (紅樓夢)                Cao Xueqin   \n",
       "\n",
       "  Original language               Genre  \n",
       "0           English  Historical fiction  \n",
       "1            French             Novella  \n",
       "2           English             Fantasy  \n",
       "3           English             Mystery  \n",
       "4           Chinese         Family saga  "
      ]
     },
     "execution_count": 108,
     "metadata": {},
     "output_type": "execute_result"
    }
   ],
   "source": [
    "books2_df = books_df\n",
    "books2_df.head()"
   ]
  },
  {
   "attachments": {},
   "cell_type": "markdown",
   "metadata": {},
   "source": [
    "<h4> Transforming Variables </h4>"
   ]
  },
  {
   "attachments": {},
   "cell_type": "markdown",
   "metadata": {},
   "source": [
    "<h5> for Authors </h5>"
   ]
  },
  {
   "cell_type": "code",
   "execution_count": 109,
   "metadata": {},
   "outputs": [
    {
     "name": "stderr",
     "output_type": "stream",
     "text": [
      "/var/folders/b6/wvsnhxp56z97rld_stlsjcrh0000gn/T/ipykernel_4038/404380057.py:16: SettingWithCopyWarning: \n",
      "A value is trying to be set on a copy of a slice from a DataFrame.\n",
      "Try using .loc[row_indexer,col_indexer] = value instead\n",
      "\n",
      "See the caveats in the documentation: https://pandas.pydata.org/pandas-docs/stable/user_guide/indexing.html#returning-a-view-versus-a-copy\n",
      "  books2_df['Author(s)'] = books2_df['Author(s)'].apply(lambda x: [name.lower() for name in x.split(', ')])\n",
      "/var/folders/b6/wvsnhxp56z97rld_stlsjcrh0000gn/T/ipykernel_4038/404380057.py:19: SettingWithCopyWarning: \n",
      "A value is trying to be set on a copy of a slice from a DataFrame.\n",
      "Try using .loc[row_indexer,col_indexer] = value instead\n",
      "\n",
      "See the caveats in the documentation: https://pandas.pydata.org/pandas-docs/stable/user_guide/indexing.html#returning-a-view-versus-a-copy\n",
      "  books2_df['Author(s)'] = books2_df['Author(s)'].apply(lambda x: ''.join(x))\n",
      "/var/folders/b6/wvsnhxp56z97rld_stlsjcrh0000gn/T/ipykernel_4038/404380057.py:22: SettingWithCopyWarning: \n",
      "A value is trying to be set on a copy of a slice from a DataFrame.\n",
      "Try using .loc[row_indexer,col_indexer] = value instead\n",
      "\n",
      "See the caveats in the documentation: https://pandas.pydata.org/pandas-docs/stable/user_guide/indexing.html#returning-a-view-versus-a-copy\n",
      "  books2_df['Author(s)'] = books2_df['Author(s)'].apply(lambda x: ''.join(x.split()))\n"
     ]
    },
    {
     "data": {
      "text/plain": [
       "0            charlesdickens\n",
       "1    antoinedesaint-exupéry\n",
       "2               j.k.rowling\n",
       "3            agathachristie\n",
       "4                 caoxueqin\n",
       "Name: Author(s), dtype: object"
      ]
     },
     "execution_count": 109,
     "metadata": {},
     "output_type": "execute_result"
    }
   ],
   "source": [
    "# Split the author names by commas and lowercase each word\n",
    "books2_df['Author(s)'] = books2_df['Author(s)'].apply(lambda x: [name.lower() for name in x.split(', ')])\n",
    "\n",
    "# Join the lowercase words into a single string for each author and update the 'Author(s)' column\n",
    "books2_df['Author(s)'] = books2_df['Author(s)'].apply(lambda x: ''.join(x))\n",
    "\n",
    "# Remove the spaces between each word in the string\n",
    "books2_df['Author(s)'] = books2_df['Author(s)'].apply(lambda x: ''.join(x.split()))\n",
    "\n",
    "# Display the updated 'Author(s)' column\n",
    "books2_df['Author(s)'].head()"
   ]
  },
  {
   "attachments": {},
   "cell_type": "markdown",
   "metadata": {},
   "source": [
    "<h5> for Language </h5>"
   ]
  },
  {
   "cell_type": "code",
   "execution_count": 110,
   "metadata": {},
   "outputs": [
    {
     "name": "stderr",
     "output_type": "stream",
     "text": [
      "/var/folders/b6/wvsnhxp56z97rld_stlsjcrh0000gn/T/ipykernel_4038/311120575.py:2: SettingWithCopyWarning: \n",
      "A value is trying to be set on a copy of a slice from a DataFrame.\n",
      "Try using .loc[row_indexer,col_indexer] = value instead\n",
      "\n",
      "See the caveats in the documentation: https://pandas.pydata.org/pandas-docs/stable/user_guide/indexing.html#returning-a-view-versus-a-copy\n",
      "  books2_df['Original language'] = books2_df['Original language'].apply(lambda x: [name.lower() for name in x.split(', ')])\n",
      "/var/folders/b6/wvsnhxp56z97rld_stlsjcrh0000gn/T/ipykernel_4038/311120575.py:5: SettingWithCopyWarning: \n",
      "A value is trying to be set on a copy of a slice from a DataFrame.\n",
      "Try using .loc[row_indexer,col_indexer] = value instead\n",
      "\n",
      "See the caveats in the documentation: https://pandas.pydata.org/pandas-docs/stable/user_guide/indexing.html#returning-a-view-versus-a-copy\n",
      "  books2_df['Original language'] = books2_df['Original language'].apply(lambda x: ''.join(x))\n"
     ]
    },
    {
     "data": {
      "text/plain": [
       "0    english\n",
       "1     french\n",
       "2    english\n",
       "3    english\n",
       "4    chinese\n",
       "Name: Original language, dtype: object"
      ]
     },
     "execution_count": 110,
     "metadata": {},
     "output_type": "execute_result"
    }
   ],
   "source": [
    "# Split the author names by commas and lowercase each word\n",
    "books2_df['Original language'] = books2_df['Original language'].apply(lambda x: [name.lower() for name in x.split(', ')])\n",
    "\n",
    "# Join the lowercase words into a single string for each author and update the 'Author(s)' column\n",
    "books2_df['Original language'] = books2_df['Original language'].apply(lambda x: ''.join(x))\n",
    "\n",
    "# Display the updated 'Author(s)' column\n",
    "books2_df['Original language'].head()"
   ]
  },
  {
   "attachments": {},
   "cell_type": "markdown",
   "metadata": {},
   "source": [
    "<h5> for Genre </h5>"
   ]
  },
  {
   "cell_type": "code",
   "execution_count": 111,
   "metadata": {},
   "outputs": [
    {
     "name": "stderr",
     "output_type": "stream",
     "text": [
      "/var/folders/b6/wvsnhxp56z97rld_stlsjcrh0000gn/T/ipykernel_4038/2652369464.py:2: SettingWithCopyWarning: \n",
      "A value is trying to be set on a copy of a slice from a DataFrame.\n",
      "Try using .loc[row_indexer,col_indexer] = value instead\n",
      "\n",
      "See the caveats in the documentation: https://pandas.pydata.org/pandas-docs/stable/user_guide/indexing.html#returning-a-view-versus-a-copy\n",
      "  books2_df['Genre'] = books2_df['Genre'].apply(lambda x: [name.lower() for name in x.split(', ')])\n",
      "/var/folders/b6/wvsnhxp56z97rld_stlsjcrh0000gn/T/ipykernel_4038/2652369464.py:5: SettingWithCopyWarning: \n",
      "A value is trying to be set on a copy of a slice from a DataFrame.\n",
      "Try using .loc[row_indexer,col_indexer] = value instead\n",
      "\n",
      "See the caveats in the documentation: https://pandas.pydata.org/pandas-docs/stable/user_guide/indexing.html#returning-a-view-versus-a-copy\n",
      "  books2_df['Genre'] = books2_df['Genre'].apply(lambda x: ''.join(x))\n",
      "/var/folders/b6/wvsnhxp56z97rld_stlsjcrh0000gn/T/ipykernel_4038/2652369464.py:8: SettingWithCopyWarning: \n",
      "A value is trying to be set on a copy of a slice from a DataFrame.\n",
      "Try using .loc[row_indexer,col_indexer] = value instead\n",
      "\n",
      "See the caveats in the documentation: https://pandas.pydata.org/pandas-docs/stable/user_guide/indexing.html#returning-a-view-versus-a-copy\n",
      "  books2_df['Genre'] = books2_df['Genre'].apply(lambda x: ''.join(x.split()))\n"
     ]
    },
    {
     "data": {
      "text/plain": [
       "0    historicalfiction\n",
       "1              novella\n",
       "2              fantasy\n",
       "3              mystery\n",
       "4           familysaga\n",
       "Name: Genre, dtype: object"
      ]
     },
     "execution_count": 111,
     "metadata": {},
     "output_type": "execute_result"
    }
   ],
   "source": [
    "# Split the author names by commas and lowercase each word\n",
    "books2_df['Genre'] = books2_df['Genre'].apply(lambda x: [name.lower() for name in x.split(', ')])\n",
    "\n",
    "# Join the lowercase words into a single string for each author and update the 'Author(s)' column\n",
    "books2_df['Genre'] = books2_df['Genre'].apply(lambda x: ''.join(x))\n",
    "\n",
    "# Remove the spaces between each word in the string\n",
    "books2_df['Genre'] = books2_df['Genre'].apply(lambda x: ''.join(x.split()))\n",
    "\n",
    "# Display the updated 'Author(s)' column\n",
    "books2_df['Genre'].head()"
   ]
  },
  {
   "cell_type": "code",
   "execution_count": 112,
   "metadata": {},
   "outputs": [
    {
     "data": {
      "text/html": [
       "<div>\n",
       "<style scoped>\n",
       "    .dataframe tbody tr th:only-of-type {\n",
       "        vertical-align: middle;\n",
       "    }\n",
       "\n",
       "    .dataframe tbody tr th {\n",
       "        vertical-align: top;\n",
       "    }\n",
       "\n",
       "    .dataframe thead th {\n",
       "        text-align: right;\n",
       "    }\n",
       "</style>\n",
       "<table border=\"1\" class=\"dataframe\">\n",
       "  <thead>\n",
       "    <tr style=\"text-align: right;\">\n",
       "      <th></th>\n",
       "      <th>Book</th>\n",
       "      <th>Author(s)</th>\n",
       "      <th>Original language</th>\n",
       "      <th>Genre</th>\n",
       "    </tr>\n",
       "  </thead>\n",
       "  <tbody>\n",
       "    <tr>\n",
       "      <th>0</th>\n",
       "      <td>A Tale of Two Cities</td>\n",
       "      <td>charlesdickens</td>\n",
       "      <td>english</td>\n",
       "      <td>historicalfiction</td>\n",
       "    </tr>\n",
       "    <tr>\n",
       "      <th>1</th>\n",
       "      <td>The Little Prince (Le Petit Prince)</td>\n",
       "      <td>antoinedesaint-exupéry</td>\n",
       "      <td>french</td>\n",
       "      <td>novella</td>\n",
       "    </tr>\n",
       "    <tr>\n",
       "      <th>2</th>\n",
       "      <td>Harry Potter and the Philosopher's Stone</td>\n",
       "      <td>j.k.rowling</td>\n",
       "      <td>english</td>\n",
       "      <td>fantasy</td>\n",
       "    </tr>\n",
       "    <tr>\n",
       "      <th>3</th>\n",
       "      <td>And Then There Were None</td>\n",
       "      <td>agathachristie</td>\n",
       "      <td>english</td>\n",
       "      <td>mystery</td>\n",
       "    </tr>\n",
       "    <tr>\n",
       "      <th>4</th>\n",
       "      <td>Dream of the Red Chamber (紅樓夢)</td>\n",
       "      <td>caoxueqin</td>\n",
       "      <td>chinese</td>\n",
       "      <td>familysaga</td>\n",
       "    </tr>\n",
       "  </tbody>\n",
       "</table>\n",
       "</div>"
      ],
      "text/plain": [
       "                                       Book               Author(s)  \\\n",
       "0                      A Tale of Two Cities          charlesdickens   \n",
       "1       The Little Prince (Le Petit Prince)  antoinedesaint-exupéry   \n",
       "2  Harry Potter and the Philosopher's Stone             j.k.rowling   \n",
       "3                  And Then There Were None          agathachristie   \n",
       "4            Dream of the Red Chamber (紅樓夢)               caoxueqin   \n",
       "\n",
       "  Original language              Genre  \n",
       "0           english  historicalfiction  \n",
       "1            french            novella  \n",
       "2           english            fantasy  \n",
       "3           english            mystery  \n",
       "4           chinese         familysaga  "
      ]
     },
     "execution_count": 112,
     "metadata": {},
     "output_type": "execute_result"
    }
   ],
   "source": [
    "books2_df.head()"
   ]
  },
  {
   "attachments": {},
   "cell_type": "markdown",
   "metadata": {},
   "source": [
    "<h4> Bag of Words </h4>\n"
   ]
  },
  {
   "cell_type": "code",
   "execution_count": 113,
   "metadata": {},
   "outputs": [
    {
     "name": "stderr",
     "output_type": "stream",
     "text": [
      "/var/folders/b6/wvsnhxp56z97rld_stlsjcrh0000gn/T/ipykernel_4038/1624500921.py:4: SettingWithCopyWarning: \n",
      "A value is trying to be set on a copy of a slice from a DataFrame.\n",
      "Try using .loc[row_indexer,col_indexer] = value instead\n",
      "\n",
      "See the caveats in the documentation: https://pandas.pydata.org/pandas-docs/stable/user_guide/indexing.html#returning-a-view-versus-a-copy\n",
      "  books2_df['bag_of_words'] = ''\n"
     ]
    }
   ],
   "source": [
    "# Title should be omitted from bag of words creation\n",
    "columns = books2_df.columns[1:]\n",
    "\n",
    "books2_df['bag_of_words'] = ''\n",
    "\n",
    "for index, row in books2_df.iterrows():\n",
    "    words = ''\n",
    "    for col in columns:\n",
    "            words = words + str(row[col])+ ' '\n",
    "    books2_df.loc[index, 'bag_of_words'] = words\n",
    "# let's keep only the title and the bag of words in the dataframe\n",
    "books2_df = books2_df[['Book','bag_of_words']]"
   ]
  },
  {
   "cell_type": "code",
   "execution_count": 114,
   "metadata": {},
   "outputs": [
    {
     "data": {
      "text/html": [
       "<div>\n",
       "<style scoped>\n",
       "    .dataframe tbody tr th:only-of-type {\n",
       "        vertical-align: middle;\n",
       "    }\n",
       "\n",
       "    .dataframe tbody tr th {\n",
       "        vertical-align: top;\n",
       "    }\n",
       "\n",
       "    .dataframe thead th {\n",
       "        text-align: right;\n",
       "    }\n",
       "</style>\n",
       "<table border=\"1\" class=\"dataframe\">\n",
       "  <thead>\n",
       "    <tr style=\"text-align: right;\">\n",
       "      <th></th>\n",
       "      <th>Book</th>\n",
       "      <th>bag_of_words</th>\n",
       "    </tr>\n",
       "  </thead>\n",
       "  <tbody>\n",
       "    <tr>\n",
       "      <th>0</th>\n",
       "      <td>A Tale of Two Cities</td>\n",
       "      <td>charlesdickens english historicalfiction</td>\n",
       "    </tr>\n",
       "    <tr>\n",
       "      <th>1</th>\n",
       "      <td>The Little Prince (Le Petit Prince)</td>\n",
       "      <td>antoinedesaint-exupéry french novella</td>\n",
       "    </tr>\n",
       "    <tr>\n",
       "      <th>2</th>\n",
       "      <td>Harry Potter and the Philosopher's Stone</td>\n",
       "      <td>j.k.rowling english fantasy</td>\n",
       "    </tr>\n",
       "    <tr>\n",
       "      <th>3</th>\n",
       "      <td>And Then There Were None</td>\n",
       "      <td>agathachristie english mystery</td>\n",
       "    </tr>\n",
       "    <tr>\n",
       "      <th>4</th>\n",
       "      <td>Dream of the Red Chamber (紅樓夢)</td>\n",
       "      <td>caoxueqin chinese familysaga</td>\n",
       "    </tr>\n",
       "  </tbody>\n",
       "</table>\n",
       "</div>"
      ],
      "text/plain": [
       "                                       Book  \\\n",
       "0                      A Tale of Two Cities   \n",
       "1       The Little Prince (Le Petit Prince)   \n",
       "2  Harry Potter and the Philosopher's Stone   \n",
       "3                  And Then There Were None   \n",
       "4            Dream of the Red Chamber (紅樓夢)   \n",
       "\n",
       "                                bag_of_words  \n",
       "0  charlesdickens english historicalfiction   \n",
       "1     antoinedesaint-exupéry french novella   \n",
       "2               j.k.rowling english fantasy   \n",
       "3            agathachristie english mystery   \n",
       "4              caoxueqin chinese familysaga   "
      ]
     },
     "execution_count": 114,
     "metadata": {},
     "output_type": "execute_result"
    }
   ],
   "source": [
    "books2_df.head()"
   ]
  },
  {
   "attachments": {},
   "cell_type": "markdown",
   "metadata": {},
   "source": [
    "<h4> Cosine Similarity Matrix </h4>"
   ]
  },
  {
   "cell_type": "code",
   "execution_count": 115,
   "metadata": {},
   "outputs": [],
   "source": [
    "# instantiating and generating the count matrix\n",
    "count = CountVectorizer()\n",
    "count_matrix = count.fit_transform(books2_df['bag_of_words'])"
   ]
  },
  {
   "cell_type": "code",
   "execution_count": 116,
   "metadata": {},
   "outputs": [
    {
     "data": {
      "text/plain": [
       "0                        A Tale of Two Cities\n",
       "1         The Little Prince (Le Petit Prince)\n",
       "2    Harry Potter and the Philosopher's Stone\n",
       "3                    And Then There Were None\n",
       "4              Dream of the Red Chamber (紅樓夢)\n",
       "Name: Book, dtype: object"
      ]
     },
     "execution_count": 116,
     "metadata": {},
     "output_type": "execute_result"
    }
   ],
   "source": [
    "# creating a Series for the movie titles so they are associated to an ordered numerical\n",
    "# list that can be used to match the indexes\n",
    "indices = pd.Series(books2_df['Book'])\n",
    "indices[:5]"
   ]
  },
  {
   "cell_type": "code",
   "execution_count": 117,
   "metadata": {},
   "outputs": [
    {
     "name": "stdout",
     "output_type": "stream",
     "text": [
      "[[1.         0.         0.33333333 ... 0.33333333 0.33333333 0.33333333]\n",
      " [0.         1.         0.         ... 0.         0.         0.        ]\n",
      " [0.33333333 0.         1.         ... 0.33333333 0.33333333 0.33333333]\n",
      " ...\n",
      " [0.33333333 0.         0.33333333 ... 1.         0.33333333 0.33333333]\n",
      " [0.33333333 0.         0.33333333 ... 0.33333333 1.         0.33333333]\n",
      " [0.33333333 0.         0.33333333 ... 0.33333333 0.33333333 1.        ]]\n"
     ]
    }
   ],
   "source": [
    "# generating the cosine similarity matrix\n",
    "cosine_sim = cosine_similarity(count_matrix, count_matrix)\n",
    "print(cosine_sim)"
   ]
  },
  {
   "attachments": {},
   "cell_type": "markdown",
   "metadata": {},
   "source": [
    "<h4> Run the Model </h4>"
   ]
  },
  {
   "cell_type": "code",
   "execution_count": 118,
   "metadata": {},
   "outputs": [],
   "source": [
    "# function that takes in movie title as input and returns the top 10 recommended movies\n",
    "def recommendations(title, cosine_sim = cosine_sim):\n",
    "\n",
    "    recommended_books = []\n",
    "\n",
    "    # getting the index of the movie that matches the title\n",
    "    idx = indices[indices == title].index[0]\n",
    "\n",
    "    # creating a Series with the similarity scores in descending order\n",
    "    score_series = pd.Series(cosine_sim[idx]).sort_values(ascending = False)\n",
    "\n",
    "    # getting the indexes of the 10 most similar movies\n",
    "    top_10_indexes = list(score_series.iloc[1:11].index)\n",
    "\n",
    "    # populating the list with the titles of the best 10 matching movies\n",
    "    for i in top_10_indexes:\n",
    "        recommended_books.append(list(books2_df['Book'])[i])\n",
    "\n",
    "    return recommended_books"
   ]
  },
  {
   "cell_type": "code",
   "execution_count": 120,
   "metadata": {},
   "outputs": [
    {
     "data": {
      "text/plain": [
       "['Mockingjay',\n",
       " 'Catching Fire',\n",
       " 'The Book Thief',\n",
       " 'The Lost Symbol',\n",
       " 'Love Story',\n",
       " 'The Godfather',\n",
       " 'The Girl on the Train',\n",
       " 'The Fault in Our Stars',\n",
       " 'Lust for Life',\n",
       " 'A Brief History of Time']"
      ]
     },
     "execution_count": 120,
     "metadata": {},
     "output_type": "execute_result"
    }
   ],
   "source": [
    "recommendations('The Hunger Games')"
   ]
  }
 ],
 "metadata": {
  "kernelspec": {
   "display_name": "Python 3",
   "language": "python",
   "name": "python3"
  },
  "language_info": {
   "codemirror_mode": {
    "name": "ipython",
    "version": 3
   },
   "file_extension": ".py",
   "mimetype": "text/x-python",
   "name": "python",
   "nbconvert_exporter": "python",
   "pygments_lexer": "ipython3",
   "version": "3.12.1"
  },
  "orig_nbformat": 4
 },
 "nbformat": 4,
 "nbformat_minor": 2
}
